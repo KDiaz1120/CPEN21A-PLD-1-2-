{
  "nbformat": 4,
  "nbformat_minor": 0,
  "metadata": {
    "colab": {
      "provenance": [],
      "authorship_tag": "ABX9TyN4yBcf9jdGvOWrLWmPgrOz",
      "include_colab_link": true
    },
    "kernelspec": {
      "name": "python3",
      "display_name": "Python 3"
    },
    "language_info": {
      "name": "python"
    }
  },
  "cells": [
    {
      "cell_type": "markdown",
      "metadata": {
        "id": "view-in-github",
        "colab_type": "text"
      },
      "source": [
        "<a href=\"https://colab.research.google.com/github/KDiaz1120/CPEN21A-PLD-1-2-/blob/main/OPERATIONS_AND_EXPRESSIONS_IN_PYTHON.ipynb\" target=\"_parent\"><img src=\"https://colab.research.google.com/assets/colab-badge.svg\" alt=\"Open In Colab\"/></a>"
      ]
    },
    {
      "cell_type": "markdown",
      "source": [
        "##Bollean Operators "
      ],
      "metadata": {
        "id": "G6oycep5v3eL"
      }
    },
    {
      "cell_type": "code",
      "source": [
        "a = 10\n",
        "b = 9\n",
        "c = 8\n",
        "print(10>9)\n",
        "print(10==9)\n",
        "print(10<9)\n",
        "print (a>b)\n",
        "\n",
        "c=print(a>b)\n",
        "\n"
      ],
      "metadata": {
        "colab": {
          "base_uri": "https://localhost:8080/"
        },
        "id": "lfzHEIXbv85g",
        "outputId": "1720ca27-b32b-4339-8c27-2682dccee026"
      },
      "execution_count": 16,
      "outputs": [
        {
          "output_type": "stream",
          "name": "stdout",
          "text": [
            "True\n",
            "False\n",
            "False\n",
            "True\n",
            "True\n"
          ]
        }
      ]
    },
    {
      "cell_type": "code",
      "source": [
        "print(bool(\"hello\"))\n",
        "print(bool(15))\n",
        "print(bool(True))\n",
        "print(bool(False))\n",
        "print(bool(1))\n",
        "print(bool(0))\n",
        "print(bool(None))\n",
        "print(bool([]))\n",
        "print(bool(\"\"))\n",
        "print(bool())"
      ],
      "metadata": {
        "colab": {
          "base_uri": "https://localhost:8080/"
        },
        "id": "sosbZrFQ1DgT",
        "outputId": "c4cea394-e0c7-44ae-e803-6c44ee245114"
      },
      "execution_count": 24,
      "outputs": [
        {
          "output_type": "stream",
          "name": "stdout",
          "text": [
            "True\n",
            "True\n",
            "True\n",
            "False\n",
            "True\n",
            "False\n",
            "False\n",
            "False\n",
            "False\n",
            "False\n"
          ]
        }
      ]
    },
    {
      "cell_type": "code",
      "source": [
        "def myFunction(): return True\n",
        "print(myFunction())\n"
      ],
      "metadata": {
        "colab": {
          "base_uri": "https://localhost:8080/"
        },
        "id": "iIkn9diK2B0C",
        "outputId": "c88979e2-5725-4f64-dd1a-f06b18087585"
      },
      "execution_count": 29,
      "outputs": [
        {
          "output_type": "stream",
          "name": "stdout",
          "text": [
            "True\n"
          ]
        }
      ]
    },
    {
      "cell_type": "code",
      "source": [
        "def myFucntion(): return True\n",
        "\n",
        "if myFucntion():\n",
        " print(\"Yes\")\n",
        "else:\n",
        "  print(\"No\")\n",
        "\n",
        "def myFunction(): return False\n",
        "if myFunction():\n",
        " print(\"True\")\n",
        "else:\n",
        "  print(\"False\")"
      ],
      "metadata": {
        "colab": {
          "base_uri": "https://localhost:8080/"
        },
        "id": "sLZyQ7AK2ngs",
        "outputId": "755a4b4f-9e9a-4577-88ff-2e07198d6158"
      },
      "execution_count": 55,
      "outputs": [
        {
          "output_type": "stream",
          "name": "stdout",
          "text": [
            "Yes\n",
            "False\n"
          ]
        }
      ]
    },
    {
      "cell_type": "code",
      "source": [
        "print(10>9)\n",
        "a = 6 # 0000 0110\n",
        "b = 7 # 0000 0111\n",
        "print(a==b)\n",
        "print(a!=a)\n",
        "print(a<b)\n",
        "print(a>b)\n",
        "print(6==6)\n",
        "print(7==7)\n",
        "print(a!=a)\n"
      ],
      "metadata": {
        "colab": {
          "base_uri": "https://localhost:8080/"
        },
        "id": "068zjzIl385c",
        "outputId": "8e91aa58-8437-4ba1-c641-2787096edabc"
      },
      "execution_count": 77,
      "outputs": [
        {
          "output_type": "stream",
          "name": "stdout",
          "text": [
            "True\n",
            "False\n",
            "False\n",
            "True\n",
            "False\n",
            "True\n",
            "True\n",
            "False\n"
          ]
        }
      ]
    },
    {
      "cell_type": "markdown",
      "source": [
        "Python Operators "
      ],
      "metadata": {
        "id": "3WlLfRC_5WLg"
      }
    },
    {
      "cell_type": "code",
      "source": [
        "print(10+5)\n",
        "print(10-5)\n",
        "print(10*5)\n",
        "print(10/5) \n",
        "print(10%5)\n",
        "print(10//3)\n",
        "print(10**2)"
      ],
      "metadata": {
        "colab": {
          "base_uri": "https://localhost:8080/"
        },
        "id": "h39Qg76y5YC5",
        "outputId": "78203f77-3214-4f85-d06c-3aefd01e5728"
      },
      "execution_count": 76,
      "outputs": [
        {
          "output_type": "stream",
          "name": "stdout",
          "text": [
            "15\n",
            "5\n",
            "50\n",
            "2.0\n",
            "0\n",
            "3\n",
            "100\n"
          ]
        }
      ]
    },
    {
      "cell_type": "markdown",
      "source": [
        "Python Bitwise Operators "
      ],
      "metadata": {
        "id": "qqM6umzt8ESL"
      }
    },
    {
      "cell_type": "code",
      "source": [
        "a = 60 #0011 1100\n",
        "b = 13\n",
        "print(a^b)\n",
        "print(~a)\n",
        "print(a<<2)\n",
        "print(a>>2) # 0000 1111"
      ],
      "metadata": {
        "colab": {
          "base_uri": "https://localhost:8080/"
        },
        "id": "4UYv34ri-UP5",
        "outputId": "9bddb770-1291-4a30-80b5-73bd969fd550"
      },
      "execution_count": 85,
      "outputs": [
        {
          "output_type": "stream",
          "name": "stdout",
          "text": [
            "49\n",
            "-61\n",
            "240\n",
            "15\n"
          ]
        }
      ]
    },
    {
      "cell_type": "markdown",
      "source": [
        "Assignemnt Operators "
      ],
      "metadata": {
        "id": "aZFKofZe_ob-"
      }
    },
    {
      "cell_type": "code",
      "source": [
        "x = 2\n",
        "x += 3 #Same As x = x + 3 \n",
        "print(x)\n",
        "x"
      ],
      "metadata": {
        "colab": {
          "base_uri": "https://localhost:8080/"
        },
        "id": "oSRkXlPOAwbQ",
        "outputId": "12fdd037-34d3-4d36-c7a7-d9030bf34048"
      },
      "execution_count": 109,
      "outputs": [
        {
          "output_type": "stream",
          "name": "stdout",
          "text": [
            "5\n"
          ]
        },
        {
          "output_type": "execute_result",
          "data": {
            "text/plain": [
              "5"
            ]
          },
          "metadata": {},
          "execution_count": 109
        }
      ]
    },
    {
      "cell_type": "markdown",
      "source": [
        "#Logical Operators "
      ],
      "metadata": {
        "id": "qQqqNPR2BVjn"
      }
    },
    {
      "cell_type": "code",
      "source": [
        "x = 5\n",
        "\n",
        "print(x or x) is True\n",
        "\n",
        "a = 5\n",
        "b = 6\n",
        "print(a>b and a==a)\n",
        "print(a<b or b==a)\n"
      ],
      "metadata": {
        "colab": {
          "base_uri": "https://localhost:8080/"
        },
        "id": "aUGiZsq5BW9v",
        "outputId": "6b41a97c-0bc7-4962-8d06-19a98b8fa8d3"
      },
      "execution_count": 124,
      "outputs": [
        {
          "output_type": "stream",
          "name": "stdout",
          "text": [
            "5\n",
            "False\n",
            "True\n"
          ]
        }
      ]
    },
    {
      "cell_type": "markdown",
      "source": [
        "##Identity Operators"
      ],
      "metadata": {
        "id": "3CiK3zFJDP5t"
      }
    },
    {
      "cell_type": "code",
      "source": [
        "print(a is b)\n",
        "print(a is not b)"
      ],
      "metadata": {
        "colab": {
          "base_uri": "https://localhost:8080/"
        },
        "id": "IcElaZZkDWo9",
        "outputId": "1f79892a-9ca9-4b37-9ff5-a5fc270f3362"
      },
      "execution_count": 126,
      "outputs": [
        {
          "output_type": "execute_result",
          "data": {
            "text/plain": [
              "True"
            ]
          },
          "metadata": {},
          "execution_count": 126
        }
      ]
    }
  ]
}