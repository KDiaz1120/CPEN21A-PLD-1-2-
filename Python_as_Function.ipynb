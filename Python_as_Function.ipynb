{
  "nbformat": 4,
  "nbformat_minor": 0,
  "metadata": {
    "colab": {
      "provenance": [],
      "authorship_tag": "ABX9TyPBuLk4mtf1v6jnodXp7qnC",
      "include_colab_link": true
    },
    "kernelspec": {
      "name": "python3",
      "display_name": "Python 3"
    },
    "language_info": {
      "name": "python"
    }
  },
  "cells": [
    {
      "cell_type": "markdown",
      "metadata": {
        "id": "view-in-github",
        "colab_type": "text"
      },
      "source": [
        "<a href=\"https://colab.research.google.com/github/KDiaz1120/CPEN21A-PLD-1-2-/blob/main/Python_as_Function.ipynb\" target=\"_parent\"><img src=\"https://colab.research.google.com/assets/colab-badge.svg\" alt=\"Open In Colab\"/></a>"
      ]
    },
    {
      "cell_type": "code",
      "execution_count": null,
      "metadata": {
        "colab": {
          "base_uri": "https://localhost:8080/"
        },
        "id": "NXbcotJ3iiEz",
        "outputId": "e4b51ad2-8945-4053-a8d7-17694513d181"
      },
      "outputs": [
        {
          "output_type": "execute_result",
          "data": {
            "text/plain": [
              "4.5"
            ]
          },
          "metadata": {},
          "execution_count": 1
        }
      ],
      "source": [
        "#Function Calls\n",
        "\n",
        "\n",
        "abs(-4.5)\n"
      ]
    },
    {
      "cell_type": "markdown",
      "source": [],
      "metadata": {
        "id": "8c8ifmz-TO21"
      }
    },
    {
      "cell_type": "code",
      "source": [
        "#Function calls other function\n",
        "\n",
        "pow(abs(-2),round(4.5)) #pow(2,4)"
      ],
      "metadata": {
        "colab": {
          "base_uri": "https://localhost:8080/"
        },
        "id": "rT5oz-_ui65F",
        "outputId": "65898f56-640a-424c-89e2-293ec2924381"
      },
      "execution_count": null,
      "outputs": [
        {
          "output_type": "execute_result",
          "data": {
            "text/plain": [
              "16"
            ]
          },
          "metadata": {},
          "execution_count": 2
        }
      ]
    },
    {
      "cell_type": "markdown",
      "source": [],
      "metadata": {
        "id": "Nr_diEBpSyiv"
      }
    },
    {
      "cell_type": "code",
      "source": [
        "#Type code Function\n",
        "\n",
        "int(4.5)\n",
        "float(4)"
      ],
      "metadata": {
        "colab": {
          "base_uri": "https://localhost:8080/"
        },
        "id": "VPzrNn-IjNos",
        "outputId": "f342ea86-7aac-4392-d86c-490c5fa33231"
      },
      "execution_count": null,
      "outputs": [
        {
          "output_type": "execute_result",
          "data": {
            "text/plain": [
              "4.0"
            ]
          },
          "metadata": {},
          "execution_count": 6
        }
      ]
    },
    {
      "cell_type": "code",
      "source": [
        "#Defining own function\n",
        "\n",
        "def convert_to_celsius(celsius):\n",
        "  celsius = (fahrenheit-32)*5/9\n",
        "  return(celsius)\n",
        "\n",
        "fahrenheit = float(input(\"Enter a number in fahrenheit:\"))\n",
        "\n",
        "f=convert_to_celsius(fahrenheit)\n",
        "print(round(f,2))"
      ],
      "metadata": {
        "colab": {
          "base_uri": "https://localhost:8080/"
        },
        "id": "Oa29ok9Cj5P7",
        "outputId": "9ac59fd9-bf4f-48dc-8427-f0fb28344aa6"
      },
      "execution_count": null,
      "outputs": [
        {
          "output_type": "stream",
          "name": "stdout",
          "text": [
            "Enter a number in fahrenheit:100\n",
            "37.78\n"
          ]
        }
      ]
    },
    {
      "cell_type": "markdown",
      "source": [
        "Exercises"
      ],
      "metadata": {
        "id": "RoUTaMAeS3Ol"
      }
    },
    {
      "cell_type": "code",
      "source": [
        "def a():\n",
        "    return min(2,3,4)\n",
        "def b():\n",
        "    return max(2,-3, 4, 7, -5)\n",
        "def c():\n",
        "    return max(2,-3, min(4, 7), -5)\n",
        "print('a.', a())\n",
        "print('b.', b())\n",
        "print('c.', c())"
      ],
      "metadata": {
        "colab": {
          "base_uri": "https://localhost:8080/"
        },
        "id": "vBLYYVB1S1yG",
        "outputId": "fff9c30e-705c-4e1a-c479-fc6ab6132786"
      },
      "execution_count": null,
      "outputs": [
        {
          "output_type": "stream",
          "name": "stdout",
          "text": [
            "a. 2\n",
            "b. 7\n",
            "c. 4\n"
          ]
        }
      ]
    }
  ]
}