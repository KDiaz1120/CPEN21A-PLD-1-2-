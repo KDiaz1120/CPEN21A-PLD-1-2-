{
  "nbformat": 4,
  "nbformat_minor": 0,
  "metadata": {
    "colab": {
      "provenance": [],
      "authorship_tag": "ABX9TyP4qq/TZH5izSRihmbVyLxT",
      "include_colab_link": true
    },
    "kernelspec": {
      "name": "python3",
      "display_name": "Python 3"
    },
    "language_info": {
      "name": "python"
    }
  },
  "cells": [
    {
      "cell_type": "markdown",
      "metadata": {
        "id": "view-in-github",
        "colab_type": "text"
      },
      "source": [
        "<a href=\"https://colab.research.google.com/github/KDiaz1120/CPEN21A-PLD-1-2-/blob/main/Introduction_to_Python.ipynb\" target=\"_parent\"><img src=\"https://colab.research.google.com/assets/colab-badge.svg\" alt=\"Open In Colab\"/></a>"
      ]
    },
    {
      "cell_type": "markdown",
      "source": [
        "Indentation"
      ],
      "metadata": {
        "id": "V7RUApRyUouZ"
      }
    },
    {
      "cell_type": "code",
      "source": [
        "if 5>3:\n",
        "  print(\"5 is greater than 3\") #this is a comment"
      ],
      "metadata": {
        "colab": {
          "base_uri": "https://localhost:8080/"
        },
        "id": "FAlkJ0C7Uo3d",
        "outputId": "09265446-eb47-4342-d34c-2e7abcdb7901"
      },
      "execution_count": 6,
      "outputs": [
        {
          "output_type": "stream",
          "name": "stdout",
          "text": [
            "5 is greather than 3\n"
          ]
        }
      ]
    },
    {
      "cell_type": "markdown",
      "source": [
        "Variable Declaration"
      ],
      "metadata": {
        "id": "aoxnUU0uVBzc"
      }
    },
    {
      "cell_type": "code",
      "source": [
        "#variable with a single value\n",
        "x=5\n",
        "y=3\n",
        "if x>y: \n",
        "  print(\"x is greater than y\")\n",
        "else:\n",
        "    print(\"y is greater than y\")\n",
        "\n",
        "\n",
        "  #variable with multiple values\n",
        "\n",
        "a,b = 1,2\n",
        "print(\"The value of a is:\",a)\n",
        "print(\"The value of b is:\",b)\n",
        "\n",
        "#multiple variables with single value\n",
        "b = q = r = \"Mam\"\n",
        "print(b)\n",
        "print(q)\n",
        "print(r)"
      ],
      "metadata": {
        "colab": {
          "base_uri": "https://localhost:8080/"
        },
        "id": "HbrqEMVSVI2a",
        "outputId": "c0734bf6-f333-4905-90d1-ea1a7a36ba20"
      },
      "execution_count": 55,
      "outputs": [
        {
          "output_type": "stream",
          "name": "stdout",
          "text": [
            "x is greater than y\n",
            "The value of a is: 1\n",
            "The value of b is: 2\n",
            "Mam\n",
            "Mam\n",
            "Mam\n"
          ]
        }
      ]
    },
    {
      "cell_type": "markdown",
      "source": [
        "Casting and Type() function\n"
      ],
      "metadata": {
        "id": "jci0v6uzWv2r"
      }
    },
    {
      "cell_type": "code",
      "source": [
        "f = int(4)   #integer\n",
        "g=float(4)   #decimal/fraction\n",
        "\n",
        "print (f)\n",
        "print (g)\n",
        "\n",
        "print(type(f))\n",
        "print(type(g))"
      ],
      "metadata": {
        "colab": {
          "base_uri": "https://localhost:8080/"
        },
        "id": "WIS1lpKnXA6v",
        "outputId": "1a3b7910-e189-4dd3-ce12-4151fe03d49c"
      },
      "execution_count": 30,
      "outputs": [
        {
          "output_type": "stream",
          "name": "stdout",
          "text": [
            "4\n",
            "4.0\n",
            "<class 'int'>\n",
            "<class 'float'>\n"
          ]
        }
      ]
    },
    {
      "cell_type": "markdown",
      "source": [
        "Dobule quote or single quote"
      ],
      "metadata": {
        "id": "FYhJTr93XcuE"
      }
    },
    {
      "cell_type": "code",
      "source": [
        "name = \"kenneth\"\n",
        "name1 = \"maria\"\n",
        "\n",
        "print(name)\n",
        "print(name1)"
      ],
      "metadata": {
        "colab": {
          "base_uri": "https://localhost:8080/"
        },
        "id": "eRTNXW7pXkHr",
        "outputId": "df9e7464-7bae-4f06-90b4-b0219c31e3bb"
      },
      "execution_count": 38,
      "outputs": [
        {
          "output_type": "stream",
          "name": "stdout",
          "text": [
            "kenneth\n",
            "maria\n"
          ]
        }
      ]
    },
    {
      "cell_type": "markdown",
      "source": [
        "Case Sensitive"
      ],
      "metadata": {
        "id": "S2vrtodEYHYh"
      }
    },
    {
      "cell_type": "code",
      "source": [
        "name = \"Ana\"\n",
        "print(name)"
      ],
      "metadata": {
        "colab": {
          "base_uri": "https://localhost:8080/"
        },
        "id": "jpL7TEcuYLGX",
        "outputId": "5c99850a-cf7d-4f64-ef28-0e2c9e549966"
      },
      "execution_count": 48,
      "outputs": [
        {
          "output_type": "stream",
          "name": "stdout",
          "text": [
            "Ana\n"
          ]
        }
      ]
    },
    {
      "cell_type": "markdown",
      "source": [
        "Output Variables"
      ],
      "metadata": {
        "id": "mskW6Pk5YyQr"
      }
    },
    {
      "cell_type": "code",
      "source": [
        "o = \"is enjoying\"\n",
        "print(\"Pyton programming\"+\" \"+ o) #append is enjoying "
      ],
      "metadata": {
        "colab": {
          "base_uri": "https://localhost:8080/"
        },
        "id": "JDqjw-Z3Zj5g",
        "outputId": "c6e037b3-1b92-4eef-bc3e-8f96656644c0"
      },
      "execution_count": 58,
      "outputs": [
        {
          "output_type": "stream",
          "name": "stdout",
          "text": [
            "Pyton programming is enjoying\n"
          ]
        }
      ]
    }
  ]
}