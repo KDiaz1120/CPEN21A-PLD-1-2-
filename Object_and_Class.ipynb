{
  "nbformat": 4,
  "nbformat_minor": 0,
  "metadata": {
    "colab": {
      "provenance": [],
      "toc_visible": true,
      "authorship_tag": "ABX9TyNGWZZwqul23+I9Iaq22YVw",
      "include_colab_link": true
    },
    "kernelspec": {
      "name": "python3",
      "display_name": "Python 3"
    },
    "language_info": {
      "name": "python"
    }
  },
  "cells": [
    {
      "cell_type": "markdown",
      "metadata": {
        "id": "view-in-github",
        "colab_type": "text"
      },
      "source": [
        "<a href=\"https://colab.research.google.com/github/KDiaz1120/CPEN21A-PLD-1-2-/blob/main/Object_and_Class.ipynb\" target=\"_parent\"><img src=\"https://colab.research.google.com/assets/colab-badge.svg\" alt=\"Open In Colab\"/></a>"
      ]
    },
    {
      "cell_type": "code",
      "source": [
        "class Person:\n",
        "  def __init__(self,name,age,birthdate):                  #object and class constructor\n",
        "    self.name = name\n",
        "    self.age = age\n",
        "    self.birthdate = birthdate\n",
        "  \n",
        "  def info(self):                                         #method constructor\n",
        "    return \"My personal info are all here\"\n",
        "\n",
        "class Student(Person):                                    #inheritance\n",
        "  pass\n",
        "\n",
        "person = Student(\"Ana\", 28,\"January 4, 1998\")\n",
        "\n",
        "print(person.info())\n"
      ],
      "metadata": {
        "colab": {
          "base_uri": "https://localhost:8080/"
        },
        "id": "eNeYh05OHzCx",
        "outputId": "e4b08efe-4d58-4d82-f501-e28f6ccff18f"
      },
      "execution_count": null,
      "outputs": [
        {
          "output_type": "stream",
          "name": "stdout",
          "text": [
            "My personal info are all here\n"
          ]
        }
      ]
    },
    {
      "cell_type": "code",
      "source": [
        "#Excercise #1\n",
        "# Write a Python program that:\n",
        "# Use Shape as parent class, Rectangle as child class with lenght and width attributes\n",
        "# Use Perimeter() and Area() as methods to compute for the perimeter and area of the rectangle \n"
      ],
      "metadata": {
        "id": "83upCOZYK7w0"
      },
      "execution_count": null,
      "outputs": []
    },
    {
      "cell_type": "code",
      "source": [
        "class Shape:\n",
        "  def __init__(shape,length,width):\n",
        "    shape.length = 0\n",
        "    shape.width = 0\n",
        "\n",
        "class Rectangle(Shape):\n",
        "  pass\n",
        "\n",
        "rectangle = Rectangle(5,10)\n",
        "\n",
        "print(\"Length of the Rectangle is\",rectangle.length)\n",
        "print(\"Width of the Rectangle is\",rectangle.width)\n"
      ],
      "metadata": {
        "colab": {
          "base_uri": "https://localhost:8080/"
        },
        "id": "Y1bOJcj6GDx-",
        "outputId": "06463bc7-dc71-4e15-9263-12ec02fb5b1b"
      },
      "execution_count": null,
      "outputs": [
        {
          "output_type": "stream",
          "name": "stdout",
          "text": [
            "Length of the Rectangle is 10\n",
            "Width of the Rectangle is 20\n"
          ]
        }
      ]
    }
  ]
}