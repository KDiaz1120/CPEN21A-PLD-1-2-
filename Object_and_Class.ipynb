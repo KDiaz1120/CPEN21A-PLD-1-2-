{
  "nbformat": 4,
  "nbformat_minor": 0,
  "metadata": {
    "colab": {
      "provenance": [],
      "toc_visible": true,
      "authorship_tag": "ABX9TyMqn5yuKFOK91X9YzmHM6zn",
      "include_colab_link": true
    },
    "kernelspec": {
      "name": "python3",
      "display_name": "Python 3"
    },
    "language_info": {
      "name": "python"
    }
  },
  "cells": [
    {
      "cell_type": "markdown",
      "metadata": {
        "id": "view-in-github",
        "colab_type": "text"
      },
      "source": [
        "<a href=\"https://colab.research.google.com/github/KDiaz1120/CPEN21A-PLD-1-2-/blob/main/Object_and_Class.ipynb\" target=\"_parent\"><img src=\"https://colab.research.google.com/assets/colab-badge.svg\" alt=\"Open In Colab\"/></a>"
      ]
    },
    {
      "cell_type": "code",
      "source": [
        "class Person:\n",
        "  def __init__(self,name,age,birthdate):                  #object and class constructor\n",
        "    self.name = name\n",
        "    self.age = age\n",
        "    self.birthdate = birthdate\n",
        "  \n",
        "  def info(self):                                         #method constructor\n",
        "    return \"My personal info are all here\"\n",
        "\n",
        "class Student(Person):                                    #inheritance\n",
        "  pass\n",
        "\n",
        "person = Student(\"Ana\", 28,\"January 4, 1998\")\n",
        "\n",
        "print(person.info())\n"
      ],
      "metadata": {
        "colab": {
          "base_uri": "https://localhost:8080/"
        },
        "id": "eNeYh05OHzCx",
        "outputId": "e4b08efe-4d58-4d82-f501-e28f6ccff18f"
      },
      "execution_count": null,
      "outputs": [
        {
          "output_type": "stream",
          "name": "stdout",
          "text": [
            "My personal info are all here\n"
          ]
        }
      ]
    },
    {
      "cell_type": "code",
      "source": [
        "#Excercise #1\n",
        "# Write a Python program that:\n",
        "# Use Shape as parent class, Rectangle as child class with lenght and width attributes\n",
        "# Use Perimeter() and Area() as methods to compute for the perimeter and area of the rectangle \n"
      ],
      "metadata": {
        "id": "83upCOZYK7w0"
      },
      "execution_count": null,
      "outputs": []
    },
    {
      "cell_type": "code",
      "source": [
        "class Shape:\n",
        "  def __init__(shape,length,width):\n",
        "    shape.length = length\n",
        "    shape.width = width\n",
        "\n",
        "    def Area(shape):\n",
        "      rectangle.length*rectangle.width\n",
        "\n",
        "    def Perimeter(shape):\n",
        "      (rectangle.length+rectangle.width)*2\n",
        "\n",
        "class Rectangle(Shape):\n",
        "  pass\n",
        "    \n",
        "rectangle = Rectangle(5,10)\n",
        "\n",
        "print(rectangle.Area())\n",
        "print(rectangle.Perimeter())\n"
      ],
      "metadata": {
        "colab": {
          "base_uri": "https://localhost:8080/",
          "height": 217
        },
        "id": "Y1bOJcj6GDx-",
        "outputId": "618e79b1-4e5a-4d8a-c464-d59c86ad72fb"
      },
      "execution_count": 13,
      "outputs": [
        {
          "output_type": "error",
          "ename": "AttributeError",
          "evalue": "ignored",
          "traceback": [
            "\u001b[0;31m---------------------------------------------------------------------------\u001b[0m",
            "\u001b[0;31mAttributeError\u001b[0m                            Traceback (most recent call last)",
            "\u001b[0;32m<ipython-input-13-2764eebe85bf>\u001b[0m in \u001b[0;36m<module>\u001b[0;34m\u001b[0m\n\u001b[1;32m     15\u001b[0m \u001b[0mrectangle\u001b[0m \u001b[0;34m=\u001b[0m \u001b[0mRectangle\u001b[0m\u001b[0;34m(\u001b[0m\u001b[0;36m5\u001b[0m\u001b[0;34m,\u001b[0m\u001b[0;36m10\u001b[0m\u001b[0;34m)\u001b[0m\u001b[0;34m\u001b[0m\u001b[0;34m\u001b[0m\u001b[0m\n\u001b[1;32m     16\u001b[0m \u001b[0;34m\u001b[0m\u001b[0m\n\u001b[0;32m---> 17\u001b[0;31m \u001b[0mprint\u001b[0m\u001b[0;34m(\u001b[0m\u001b[0mrectangle\u001b[0m\u001b[0;34m.\u001b[0m\u001b[0mArea\u001b[0m\u001b[0;34m(\u001b[0m\u001b[0;34m)\u001b[0m\u001b[0;34m)\u001b[0m\u001b[0;34m\u001b[0m\u001b[0;34m\u001b[0m\u001b[0m\n\u001b[0m\u001b[1;32m     18\u001b[0m \u001b[0mprint\u001b[0m\u001b[0;34m(\u001b[0m\u001b[0mrectangle\u001b[0m\u001b[0;34m.\u001b[0m\u001b[0mPerimeter\u001b[0m\u001b[0;34m(\u001b[0m\u001b[0;34m)\u001b[0m\u001b[0;34m)\u001b[0m\u001b[0;34m\u001b[0m\u001b[0;34m\u001b[0m\u001b[0m\n",
            "\u001b[0;31mAttributeError\u001b[0m: 'Rectangle' object has no attribute 'Area'"
          ]
        }
      ]
    }
  ]
}