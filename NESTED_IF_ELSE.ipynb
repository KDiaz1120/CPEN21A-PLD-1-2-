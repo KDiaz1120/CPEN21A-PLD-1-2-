{
  "nbformat": 4,
  "nbformat_minor": 0,
  "metadata": {
    "colab": {
      "provenance": [],
      "authorship_tag": "ABX9TyMoD6CknmVdTVEEoj0MA/jC",
      "include_colab_link": true
    },
    "kernelspec": {
      "name": "python3",
      "display_name": "Python 3"
    },
    "language_info": {
      "name": "python"
    }
  },
  "cells": [
    {
      "cell_type": "markdown",
      "metadata": {
        "id": "view-in-github",
        "colab_type": "text"
      },
      "source": [
        "<a href=\"https://colab.research.google.com/github/KDiaz1120/CPEN21A-PLD-1-2-/blob/main/NESTED_IF_ELSE.ipynb\" target=\"_parent\"><img src=\"https://colab.research.google.com/assets/colab-badge.svg\" alt=\"Open In Colab\"/></a>"
      ]
    },
    {
      "cell_type": "markdown",
      "source": [
        "Nested if Else"
      ],
      "metadata": {
        "id": "pyqSsod-XiPw"
      }
    },
    {
      "cell_type": "code",
      "source": [
        "x = 41 \n",
        "print(\"enter a number:\")\n",
        "x = int(input())\n",
        "if x>10:\n",
        "  print(\"above ten\")\n",
        "  if x>20:\n",
        "   print(\"above twenty\")\n",
        "  else:\n",
        "    print(\"below twenty\")\n",
        "  if x>30: \n",
        "     print(\"above thirty\")\n",
        "  else: \n",
        "      print(\"below thirty\")\n",
        "  if x>40:\n",
        "       print(\"above forty\")\n",
        "  else: \n",
        "        print(\"below forty\")\n",
        "  if x>50:\n",
        "         print(\"above fifty\")\n",
        "  else:\n",
        "           print(\"below fifty\")\n",
        "else: \n",
        "  print(\"not above ten\")"
      ],
      "metadata": {
        "colab": {
          "base_uri": "https://localhost:8080/"
        },
        "id": "gqsKD23AXopn",
        "outputId": "5d1dafc0-48c2-45ce-e7b4-3fb0d32ba085"
      },
      "execution_count": null,
      "outputs": [
        {
          "output_type": "stream",
          "name": "stdout",
          "text": [
            "enter a number:\n",
            "98\n",
            "above ten\n",
            "above twenty\n",
            "above thirty\n",
            "above forty\n",
            "above fifty\n"
          ]
        }
      ]
    },
    {
      "cell_type": "code",
      "source": [
        "x = 0\n",
        "print(\"enter a number:\")\n",
        "x = int(input())\n",
        "if x>10:\n",
        "  print(\"above ten\")\n",
        "  if x>20:\n",
        "    print(\"above twenty\")\n",
        "  else:\n",
        "     print(\"below twenty\")\n",
        "  if x>30:\n",
        "      print(\"above thirty\")\n",
        "  else:\n",
        "       print(\"below thirty\")\n",
        "  if x>40:\n",
        "        print(\"above forty\")\n",
        "  else:\n",
        "         print(\"below forty\")\n",
        "  if x>50:\n",
        "          print(\"above fifty\")\n",
        "  else:\n",
        "           print(\"below fifty\")  \n",
        "else: \n",
        "   print(\"below ten\")\n",
        "\n"
      ],
      "metadata": {
        "colab": {
          "base_uri": "https://localhost:8080/"
        },
        "id": "g282dtJaanM-",
        "outputId": "cae85012-5913-4f07-ecc3-b5d572a873b0"
      },
      "execution_count": 5,
      "outputs": [
        {
          "output_type": "stream",
          "name": "stdout",
          "text": [
            "enter a number:\n",
            "99\n",
            "above ten\n",
            "above twenty\n",
            "above thirty\n",
            "above forty\n",
            "above fifty\n"
          ]
        }
      ]
    },
    {
      "cell_type": "code",
      "source": [
        "a = 200\n",
        "b = 33\n",
        "c = 500\n",
        "if b>a and c<b: \n",
        "  print(\"Both conditions are true\")\n",
        "else:\n",
        "  print(\"Both conditions are false\")"
      ],
      "metadata": {
        "colab": {
          "base_uri": "https://localhost:8080/"
        },
        "id": "15nRc10kZpCJ",
        "outputId": "a654d3a2-b385-4fe5-ef1d-3bb018604713"
      },
      "execution_count": 16,
      "outputs": [
        {
          "output_type": "stream",
          "name": "stdout",
          "text": [
            "Both conditions are false\n"
          ]
        }
      ]
    },
    {
      "cell_type": "markdown",
      "source": [
        "Example 1 "
      ],
      "metadata": {
        "id": "HZ98wAjqatXr"
      }
    },
    {
      "cell_type": "code",
      "source": [
        "x = 18\n",
        "print(\"enter a number\")\n",
        "x = int(input())\n",
        "if x>=18: \n",
        "  print(\"qualified to vote\")\n",
        "else:\n",
        "   print(\"not qualified to vote\")"
      ],
      "metadata": {
        "colab": {
          "base_uri": "https://localhost:8080/"
        },
        "id": "UlEX-AStavJi",
        "outputId": "0c09c40f-ee92-4d54-94b6-b09fc0f2f274"
      },
      "execution_count": 61,
      "outputs": [
        {
          "output_type": "stream",
          "name": "stdout",
          "text": [
            "enter a number\n",
            "20\n",
            "qualified to vote\n"
          ]
        }
      ]
    },
    {
      "cell_type": "markdown",
      "source": [
        "Example 2 \n"
      ],
      "metadata": {
        "id": "VcTSbfVNnJnW"
      }
    },
    {
      "cell_type": "code",
      "source": [
        "x = 0\n",
        "print(\"enter a number\")\n",
        "x = int(input())\n",
        "if x>0:\n",
        "  print(\"POSITIVE\")\n",
        "elif x<0:\n",
        "    print(\"NEGATIVE\")\n",
        "else:\n",
        "  print(\"ZERO\")"
      ],
      "metadata": {
        "colab": {
          "base_uri": "https://localhost:8080/"
        },
        "id": "Vpl7p1XWnLJE",
        "outputId": "aa145ff8-dc37-45f9-d6a2-39c2ba4af2ca"
      },
      "execution_count": 60,
      "outputs": [
        {
          "output_type": "stream",
          "name": "stdout",
          "text": [
            "enter a number\n",
            "12\n",
            "POSITIVE\n"
          ]
        }
      ]
    },
    {
      "cell_type": "markdown",
      "source": [
        "Example 3"
      ],
      "metadata": {
        "id": "DsOPbopd_keK"
      }
    },
    {
      "cell_type": "code",
      "source": [
        "x = 0\n",
        "print(\"enter a number\")\n",
        "x = int(input())\n",
        "if x>=75:\n",
        "  print(\"Passed\")\n",
        "elif x==74:\n",
        "    print(\"Remedial\")\n",
        "elif x<74:\n",
        "      print(\"Failed\")\n",
        "else:\n",
        "  print(\"not accepted\")"
      ],
      "metadata": {
        "colab": {
          "base_uri": "https://localhost:8080/"
        },
        "id": "pxlyl8JC_nOa",
        "outputId": "1ed804fe-59fc-4df1-fa91-a5d5cbe6989d"
      },
      "execution_count": 59,
      "outputs": [
        {
          "output_type": "stream",
          "name": "stdout",
          "text": [
            "enter a number\n",
            "80\n",
            "Passed\n"
          ]
        }
      ]
    }
  ]
}