{
  "nbformat": 4,
  "nbformat_minor": 0,
  "metadata": {
    "colab": {
      "provenance": [],
      "authorship_tag": "ABX9TyPN3hJwqiLHGfM4n0YZnlEi",
      "include_colab_link": true
    },
    "kernelspec": {
      "name": "python3",
      "display_name": "Python 3"
    },
    "language_info": {
      "name": "python"
    }
  },
  "cells": [
    {
      "cell_type": "markdown",
      "metadata": {
        "id": "view-in-github",
        "colab_type": "text"
      },
      "source": [
        "<a href=\"https://colab.research.google.com/github/KDiaz1120/CPEN21A-PLD-1-2-/blob/main/List%2CTuple%2C_and_Set_Dictionaries.ipynb\" target=\"_parent\"><img src=\"https://colab.research.google.com/assets/colab-badge.svg\" alt=\"Open In Colab\"/></a>"
      ]
    },
    {
      "cell_type": "code",
      "execution_count": null,
      "metadata": {
        "id": "QlgJi8GVrNS7"
      },
      "outputs": [],
      "source": [
        "Numbers"
      ]
    },
    {
      "cell_type": "code",
      "source": [
        "varNum = 123\n",
        "pi = 3.14159"
      ],
      "metadata": {
        "id": "yh-OXfkHxFOO"
      },
      "execution_count": null,
      "outputs": []
    },
    {
      "cell_type": "markdown",
      "source": [
        "String"
      ],
      "metadata": {
        "id": "jmrRAgROxWm9"
      }
    },
    {
      "cell_type": "code",
      "source": [
        "varSting = \"Hello World!\"\n",
        "varText = \"This is a String\""
      ],
      "metadata": {
        "id": "FnSXlwF7xaFe"
      },
      "execution_count": null,
      "outputs": []
    },
    {
      "cell_type": "markdown",
      "source": [
        "Lists"
      ],
      "metadata": {
        "id": "JgqGLb8SxiTm"
      }
    },
    {
      "cell_type": "code",
      "source": [
        "varList = [\"abc\", 123]"
      ],
      "metadata": {
        "id": "BFxcSoX3xkgF"
      },
      "execution_count": null,
      "outputs": []
    },
    {
      "cell_type": "markdown",
      "source": [
        "Turples "
      ],
      "metadata": {
        "id": "u0QoccAzx0WZ"
      }
    },
    {
      "cell_type": "code",
      "source": [
        "varTurple = ('abc', 123 \"Hello\")"
      ],
      "metadata": {
        "id": "D3cRCXXwx2vz"
      },
      "execution_count": null,
      "outputs": []
    },
    {
      "cell_type": "markdown",
      "source": [
        "Dictionaries "
      ],
      "metadata": {
        "id": "PGYnr_Kmx_Y8"
      }
    },
    {
      "cell_type": "code",
      "source": [
        "var = 3\n",
        "varDict = {'first':1, '2': '2nd', 3:var}\n",
        "varDict = {}\n",
        "varDict ['first']= 1\n",
        "varDict ['2'] = '2nd'\n",
        "varDict [3] =var"
      ],
      "metadata": {
        "id": "c6KbJK3fyBSF"
      },
      "execution_count": null,
      "outputs": []
    },
    {
      "cell_type": "code",
      "source": [
        "a = 5 + 3       #Addition\n",
        "print(a)\n",
        "\n",
        "b = 5 -3        #Subtraction\n",
        "print(b)\n",
        "\n",
        "c = 5*3         #Multiplication\n",
        "print(c)\n",
        "\n",
        "d = 5**3        #Exponent \n",
        "print(d)\n",
        "\n",
        "e = 5/3         #Division\n",
        "print(e)\n",
        "\n",
        "f = 5%3\n",
        "print(f)\n",
        "\n",
        "g = 5//3\n",
        "print(g)\n",
        "\n",
        "h = 5           #Increment/Decrement\n",
        "h +=1 \n",
        "print(h)\n",
        "\n",
        "i = 5           #Decrement\n",
        "i -=1\n",
        "print(i)\n",
        "\n",
        "j = 'Hello' + 'Wolrd!'    #String Concatenation\n",
        "print(j)\n",
        "\n",
        "k = 3 + 5 - 6 * 2 / 4     #Complex Expressions\n",
        "print(k)              \n"
      ],
      "metadata": {
        "colab": {
          "base_uri": "https://localhost:8080/"
        },
        "id": "UPKKMqfwyzQx",
        "outputId": "9c2a4dde-101e-4e89-dcd3-39dd1b67f022"
      },
      "execution_count": null,
      "outputs": [
        {
          "output_type": "stream",
          "name": "stdout",
          "text": [
            "8\n",
            "2\n",
            "15\n",
            "125\n",
            "1.6666666666666667\n",
            "2\n",
            "1\n",
            "6\n",
            "4\n",
            "HelloWolrd!\n",
            "5.0\n"
          ]
        }
      ]
    },
    {
      "cell_type": "code",
      "source": [
        "x = True                         #Boolean Conditions\n",
        "if x:\n",
        "  print(\"var x is True\")\n",
        "else: \n",
        "  print(\"var x is False\")\n",
        "\n",
        "w = \"Hello World!\"                #String Conditions\n",
        "if w == \"Hello Wolrd!\":\n",
        "  print(\"var w is Hello World!\")\n",
        "else:\n",
        "  print(\"var w is not Hello World!\")\n",
        "\n",
        "y = 10                             #Numerical Conditions\n",
        "if y=='10':\n",
        "  print(\"var y is a string\" )  \n",
        "elif y==10:\n",
        "  print(\"var y is an integer\")\n",
        "else:\n",
        "  print(\"var y is none of the above\")\n",
        "\n"
      ],
      "metadata": {
        "colab": {
          "base_uri": "https://localhost:8080/"
        },
        "id": "-IaeUekG1eO3",
        "outputId": "cd558533-66d1-4443-a60f-586563edb463"
      },
      "execution_count": null,
      "outputs": [
        {
          "output_type": "stream",
          "name": "stdout",
          "text": [
            "var x is True\n",
            "var w is not Hello World!\n",
            "var y is an integer\n"
          ]
        }
      ]
    },
    {
      "cell_type": "code",
      "source": [
        "for var in range(0, 5, 2):         #For Loops\n",
        "  print(var)\n",
        "\n"
      ],
      "metadata": {
        "colab": {
          "base_uri": "https://localhost:8080/"
        },
        "id": "8_618Q7N2sng",
        "outputId": "4c637a04-8624-42ee-8586-6a32c57c4d0f"
      },
      "execution_count": null,
      "outputs": [
        {
          "output_type": "stream",
          "name": "stdout",
          "text": [
            "0\n",
            "2\n",
            "4\n"
          ]
        }
      ]
    },
    {
      "cell_type": "code",
      "source": [
        "var = 0                            #While Loops\n",
        "while var < 5:\n",
        "  print(var)\n",
        "  var +=2"
      ],
      "metadata": {
        "colab": {
          "base_uri": "https://localhost:8080/"
        },
        "id": "PBtl_VzC23AI",
        "outputId": "4aec631a-1c81-40d8-90c2-74aa142b6cb4"
      },
      "execution_count": null,
      "outputs": [
        {
          "output_type": "stream",
          "name": "stdout",
          "text": [
            "0\n",
            "2\n",
            "4\n"
          ]
        }
      ]
    },
    {
      "cell_type": "code",
      "source": [
        "x = 0                              #Nested Loops\n",
        "while x<5:\n",
        "  for y in range(0,x):\n",
        "    print(y, end='')\n",
        "  x +=1\n",
        "  print()"
      ],
      "metadata": {
        "colab": {
          "base_uri": "https://localhost:8080/"
        },
        "id": "j7dmMEBc2_lT",
        "outputId": "68351c77-698c-4e29-aa6e-c1978f47d47a"
      },
      "execution_count": null,
      "outputs": [
        {
          "output_type": "stream",
          "name": "stdout",
          "text": [
            "\n",
            "0\n",
            "01\n",
            "012\n",
            "0123\n"
          ]
        }
      ]
    },
    {
      "cell_type": "markdown",
      "source": [
        "Functions"
      ],
      "metadata": {
        "id": "_tuf-ePx3WuA"
      }
    },
    {
      "cell_type": "code",
      "source": [
        "def reminder(n,m):\n",
        "  while True:\n",
        "    if n-m<0:\n",
        "      return n\n",
        "    else: n = n - m\n",
        "reminder(10,4)"
      ],
      "metadata": {
        "colab": {
          "base_uri": "https://localhost:8080/"
        },
        "id": "mVQvsn8F3YiK",
        "outputId": "cf0c39fe-566e-4f7b-bc28-8210a60c16c6"
      },
      "execution_count": null,
      "outputs": [
        {
          "output_type": "execute_result",
          "data": {
            "text/plain": [
              "2"
            ]
          },
          "metadata": {},
          "execution_count": 30
        }
      ]
    },
    {
      "cell_type": "markdown",
      "source": [
        "Lists"
      ],
      "metadata": {
        "id": "RLoouopb31pG"
      }
    },
    {
      "cell_type": "code",
      "source": [
        "pi = 3.14159\n",
        "varList = [1,2, 'A', 'B', 'Hello!', pi]\n",
        "print(varList[0])\n",
        "print(varList[4])\n",
        "\n",
        "varList.append('World!')\n",
        "print(varList[6])\n",
        "\n",
        "len(varList)\n",
        "print(varList[5])\n",
        "varList.remove(pi)\n",
        "print(varList[5])"
      ],
      "metadata": {
        "colab": {
          "base_uri": "https://localhost:8080/"
        },
        "id": "rAdcuzrV32Pu",
        "outputId": "cabb51ae-1ba9-4f9b-bbf6-14bf4ad6b16a"
      },
      "execution_count": null,
      "outputs": [
        {
          "output_type": "stream",
          "name": "stdout",
          "text": [
            "1\n",
            "Hello!\n",
            "World!\n",
            "3.14159\n",
            "World!\n"
          ]
        }
      ]
    },
    {
      "cell_type": "markdown",
      "source": [
        "Dictionaries"
      ],
      "metadata": {
        "id": "NRc6VnGK4seQ"
      }
    },
    {
      "cell_type": "code",
      "source": [
        "var = \"Hello Wolrd!\"\n",
        "varDict = {'first': 123, 2 : 'abc',\n",
        "          '3' : var, 4 : ['lista', 'listb']}\n",
        "print(varDict['first'])\n",
        "print(varDict[2])\n",
        "print(varDict['3'])\n",
        "print(varDict[4])\n",
        "print(varDict[4][1])\n",
        "len(varDict)\n"
      ],
      "metadata": {
        "colab": {
          "base_uri": "https://localhost:8080/"
        },
        "id": "Tw7QdcdI4tNB",
        "outputId": "48b73521-c505-4f7b-bf1f-3cf3cf4c4a0b"
      },
      "execution_count": null,
      "outputs": [
        {
          "output_type": "stream",
          "name": "stdout",
          "text": [
            "123\n",
            "abc\n",
            "Hello Wolrd!\n",
            "['lista', 'listb']\n",
            "listb\n"
          ]
        },
        {
          "output_type": "execute_result",
          "data": {
            "text/plain": [
              "4"
            ]
          },
          "metadata": {},
          "execution_count": 45
        }
      ]
    },
    {
      "cell_type": "markdown",
      "source": [
        "List Generators and Comprehension"
      ],
      "metadata": {
        "id": "70qkQET46HMu"
      }
    },
    {
      "cell_type": "code",
      "source": [
        "def gen_num_up_to(n):\n",
        "    num = 0\n",
        "    while num < n:\n",
        "      yield num\n",
        "      num +=1\n",
        "\n",
        "gen_num_up_to(5)\n",
        "varList = gen_num_up_to(5)\n",
        "print([var for var in varList])"
      ],
      "metadata": {
        "colab": {
          "base_uri": "https://localhost:8080/"
        },
        "id": "7mmJxEa55wul",
        "outputId": "8d94930a-61fd-4321-e4a0-8f34a11f6a00"
      },
      "execution_count": null,
      "outputs": [
        {
          "output_type": "stream",
          "name": "stdout",
          "text": [
            "[0, 1, 2, 3, 4]\n"
          ]
        }
      ]
    },
    {
      "cell_type": "code",
      "source": [
        "def gen_num_up_to(n):\n",
        "    num = 0\n",
        "    while num < n:\n",
        "      yield num\n",
        "      num +=2\n",
        "  \n",
        "varList = gen_num_up_to(5)\n",
        "print([var for var in varList])\n",
        "\n",
        "varList = range(0,5,2)\n",
        "print([var for var in varList])"
      ],
      "metadata": {
        "colab": {
          "base_uri": "https://localhost:8080/"
        },
        "id": "mGWgQUEY6Zo6",
        "outputId": "a4d9e3d9-4bc3-42d1-f300-11cbf84a596b"
      },
      "execution_count": null,
      "outputs": [
        {
          "output_type": "stream",
          "name": "stdout",
          "text": [
            "[0, 2, 4]\n",
            "[0, 2, 4]\n"
          ]
        }
      ]
    },
    {
      "cell_type": "markdown",
      "source": [
        "Slicing"
      ],
      "metadata": {
        "id": "dajUNODZ6nzb"
      }
    },
    {
      "cell_type": "code",
      "source": [
        "varList = [1, 2, 3, 4, 5, 6, 7, 8, 9, 10]\n",
        "print(varList[:5])\n",
        "print(varList[5:])\n",
        "print(varList[:-2])\n",
        "print(varList[-2:])\n",
        "print(varList[2:-2])\n",
        "print(varList[2:8:2])"
      ],
      "metadata": {
        "colab": {
          "base_uri": "https://localhost:8080/"
        },
        "id": "c-yo-SD96o60",
        "outputId": "e4d39e9e-0680-424d-cbfa-a5b51f3f87f0"
      },
      "execution_count": null,
      "outputs": [
        {
          "output_type": "stream",
          "name": "stdout",
          "text": [
            "[1, 2, 3, 4, 5]\n",
            "[6, 7, 8, 9, 10]\n",
            "[1, 2, 3, 4, 5, 6, 7, 8]\n",
            "[9, 10]\n",
            "[3, 4, 5, 6, 7, 8]\n",
            "[3, 5, 7]\n"
          ]
        }
      ]
    }
  ]
}